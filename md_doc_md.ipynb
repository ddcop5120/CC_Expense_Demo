{
  "nbformat": 4,
  "nbformat_minor": 0,
  "metadata": {
    "colab": {
      "provenance": [],
      "toc_visible": true,
      "authorship_tag": "ABX9TyMymEwXqqRb48BKQLoQ8TXw",
      "include_colab_link": true
    },
    "kernelspec": {
      "name": "python3",
      "display_name": "Python 3"
    },
    "language_info": {
      "name": "python"
    }
  },
  "cells": [
    {
      "cell_type": "markdown",
      "metadata": {
        "id": "view-in-github",
        "colab_type": "text"
      },
      "source": [
        "<a href=\"https://colab.research.google.com/github/joshua60/CC_Expense_Demo/blob/main/md_doc_md.ipynb\" target=\"_parent\"><img src=\"https://colab.research.google.com/assets/colab-badge.svg\" alt=\"Open In Colab\"/></a>"
      ]
    },
    {
      "cell_type": "markdown",
      "source": [
        "MD CONTENT\n"
      ],
      "metadata": {
        "id": "fckK54ROJ-6g"
      }
    },
    {
      "cell_type": "markdown",
      "source": [
        "# 新增區段"
      ],
      "metadata": {
        "id": "qNj3n949Kh8s"
      }
    },
    {
      "cell_type": "markdown",
      "source": [
        "# 新增區段"
      ],
      "metadata": {
        "id": "ugV5gr-ZKjF2"
      }
    },
    {
      "cell_type": "markdown",
      "source": [
        "# 新增區段"
      ],
      "metadata": {
        "id": "pNvqHU7GKjpM"
      }
    },
    {
      "cell_type": "markdown",
      "source": [
        "**粗體文字**# 新增區段"
      ],
      "metadata": {
        "id": "9_flOE5NKQxo"
      }
    },
    {
      "cell_type": "markdown",
      "source": [
        "test\n",
        "test"
      ],
      "metadata": {
        "id": "Vg2KlvcpKU_t"
      }
    }
  ]
}